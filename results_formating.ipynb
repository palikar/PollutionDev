{
 "cells": [
  {
   "cell_type": "code",
   "execution_count": 15,
   "metadata": {},
   "outputs": [],
   "source": [
    "import pandas as pd\n",
    "import numpy as np\n",
    "import os, sys\n",
    "\n",
    "import matplotlib.pyplot as plt\n",
    "%matplotlib inline  "
   ]
  },
  {
   "cell_type": "code",
   "execution_count": 100,
   "metadata": {},
   "outputs": [],
   "source": [
    "\n",
    "\n",
    "scores_dfs = [\"/home/arnaud/code/pollution/mdn_train_test_2/evaluation_results_df.csv\"]\n",
    "\n",
    "features_dfs = [\"/home/arnaud/code/pollution/mdn_train_test_2/feature_importance.csv\"]\n",
    "\n",
    "train_scores_dfs = [\"/home/arnaud/code/pollution/mdn_train_test_2/evaluation_results_train_df.csv\"]\n",
    "\n",
    "score_df = pd.read_csv(scores_dfs[0], sep=\";\")\n",
    "feature_df = pd.read_csv(features_dfs[0], sep=\";\")\n",
    "train_score_df = pd.read_csv(train_scores_dfs[0], sep=\";\")\n",
    "\n",
    "for df_file in scores_dfs[1:] :\n",
    "    df = pd.read_csv(df_file, sep=\";\", header=False)\n",
    "    score_df = pd.concat([score_df , df], axis=1)\n",
    "    \n",
    "for df_file in features_dfs[1:] :\n",
    "    df = pd.read_csv(df_file, sep=\";\", header=False)\n",
    "    feature_df = pd.concat([feature_df , df], axis=1)\n",
    "    \n",
    "for df_file in train_scores_dfs[1:] :\n",
    "    df = pd.read_csv(df_file, sep=\";\", header=False)\n",
    "    train_score_df = pd.concat([train_score_df , df], axis=1)\n",
    "\n",
    "\n"
   ]
  },
  {
   "cell_type": "code",
   "execution_count": 101,
   "metadata": {},
   "outputs": [
    {
     "data": {
      "text/html": [
       "<div>\n",
       "<style scoped>\n",
       "    .dataframe tbody tr th:only-of-type {\n",
       "        vertical-align: middle;\n",
       "    }\n",
       "\n",
       "    .dataframe tbody tr th {\n",
       "        vertical-align: top;\n",
       "    }\n",
       "\n",
       "    .dataframe thead th {\n",
       "        text-align: right;\n",
       "    }\n",
       "</style>\n",
       "<table border=\"1\" class=\"dataframe\">\n",
       "  <thead>\n",
       "    <tr style=\"text-align: right;\">\n",
       "      <th></th>\n",
       "      <th>model_id</th>\n",
       "      <th>observation</th>\n",
       "      <th>DSS</th>\n",
       "      <th>LOG</th>\n",
       "      <th>CRPS</th>\n",
       "    </tr>\n",
       "  </thead>\n",
       "  <tbody>\n",
       "    <tr>\n",
       "      <th>0</th>\n",
       "      <td>mdn_test</td>\n",
       "      <td>49.717250</td>\n",
       "      <td>12.930289</td>\n",
       "      <td>4.608738</td>\n",
       "      <td>14.444313</td>\n",
       "    </tr>\n",
       "    <tr>\n",
       "      <th>1</th>\n",
       "      <td>mdn_test</td>\n",
       "      <td>14.648896</td>\n",
       "      <td>26.707395</td>\n",
       "      <td>12.254664</td>\n",
       "      <td>2.008737</td>\n",
       "    </tr>\n",
       "    <tr>\n",
       "      <th>2</th>\n",
       "      <td>mdn_test</td>\n",
       "      <td>29.996437</td>\n",
       "      <td>9.138409</td>\n",
       "      <td>3.483744</td>\n",
       "      <td>4.715082</td>\n",
       "    </tr>\n",
       "    <tr>\n",
       "      <th>3</th>\n",
       "      <td>mdn_test</td>\n",
       "      <td>17.817479</td>\n",
       "      <td>10.234938</td>\n",
       "      <td>3.772865</td>\n",
       "      <td>6.481146</td>\n",
       "    </tr>\n",
       "    <tr>\n",
       "      <th>4</th>\n",
       "      <td>mdn_test</td>\n",
       "      <td>12.532667</td>\n",
       "      <td>7.470843</td>\n",
       "      <td>2.996636</td>\n",
       "      <td>2.420307</td>\n",
       "    </tr>\n",
       "  </tbody>\n",
       "</table>\n",
       "</div>"
      ],
      "text/plain": [
       "   model_id  observation        DSS        LOG       CRPS\n",
       "0  mdn_test    49.717250  12.930289   4.608738  14.444313\n",
       "1  mdn_test    14.648896  26.707395  12.254664   2.008737\n",
       "2  mdn_test    29.996437   9.138409   3.483744   4.715082\n",
       "3  mdn_test    17.817479  10.234938   3.772865   6.481146\n",
       "4  mdn_test    12.532667   7.470843   2.996636   2.420307"
      ]
     },
     "execution_count": 101,
     "metadata": {},
     "output_type": "execute_result"
    }
   ],
   "source": [
    "rules_df.head()"
   ]
  },
  {
   "cell_type": "code",
   "execution_count": 102,
   "metadata": {},
   "outputs": [
    {
     "data": {
      "text/html": [
       "<div>\n",
       "<style scoped>\n",
       "    .dataframe tbody tr th:only-of-type {\n",
       "        vertical-align: middle;\n",
       "    }\n",
       "\n",
       "    .dataframe tbody tr th {\n",
       "        vertical-align: top;\n",
       "    }\n",
       "\n",
       "    .dataframe thead th {\n",
       "        text-align: right;\n",
       "    }\n",
       "</style>\n",
       "<table border=\"1\" class=\"dataframe\">\n",
       "  <thead>\n",
       "    <tr style=\"text-align: right;\">\n",
       "      <th></th>\n",
       "      <th>model_id</th>\n",
       "      <th>observation</th>\n",
       "      <th>DSS</th>\n",
       "      <th>LOG</th>\n",
       "      <th>CRPS</th>\n",
       "    </tr>\n",
       "  </thead>\n",
       "  <tbody>\n",
       "    <tr>\n",
       "      <th>0</th>\n",
       "      <td>mdn_train</td>\n",
       "      <td>127.486404</td>\n",
       "      <td>19.601474</td>\n",
       "      <td>6.117607</td>\n",
       "      <td>67.641806</td>\n",
       "    </tr>\n",
       "    <tr>\n",
       "      <th>1</th>\n",
       "      <td>mdn_train</td>\n",
       "      <td>24.554938</td>\n",
       "      <td>-15.580819</td>\n",
       "      <td>-2.834730</td>\n",
       "      <td>0.004733</td>\n",
       "    </tr>\n",
       "    <tr>\n",
       "      <th>2</th>\n",
       "      <td>mdn_train</td>\n",
       "      <td>3.866468</td>\n",
       "      <td>5.838731</td>\n",
       "      <td>2.791345</td>\n",
       "      <td>2.430425</td>\n",
       "    </tr>\n",
       "    <tr>\n",
       "      <th>3</th>\n",
       "      <td>mdn_train</td>\n",
       "      <td>21.220979</td>\n",
       "      <td>6.832304</td>\n",
       "      <td>2.776148</td>\n",
       "      <td>1.342029</td>\n",
       "    </tr>\n",
       "    <tr>\n",
       "      <th>4</th>\n",
       "      <td>mdn_train</td>\n",
       "      <td>7.521146</td>\n",
       "      <td>5.022536</td>\n",
       "      <td>2.431310</td>\n",
       "      <td>1.568756</td>\n",
       "    </tr>\n",
       "  </tbody>\n",
       "</table>\n",
       "</div>"
      ],
      "text/plain": [
       "    model_id  observation        DSS       LOG       CRPS\n",
       "0  mdn_train   127.486404  19.601474  6.117607  67.641806\n",
       "1  mdn_train    24.554938 -15.580819 -2.834730   0.004733\n",
       "2  mdn_train     3.866468   5.838731  2.791345   2.430425\n",
       "3  mdn_train    21.220979   6.832304  2.776148   1.342029\n",
       "4  mdn_train     7.521146   5.022536  2.431310   1.568756"
      ]
     },
     "execution_count": 102,
     "metadata": {},
     "output_type": "execute_result"
    }
   ],
   "source": [
    "rules_df_train.head()"
   ]
  },
  {
   "cell_type": "code",
   "execution_count": 103,
   "metadata": {},
   "outputs": [
    {
     "data": {
      "text/html": [
       "<div>\n",
       "<style scoped>\n",
       "    .dataframe tbody tr th:only-of-type {\n",
       "        vertical-align: middle;\n",
       "    }\n",
       "\n",
       "    .dataframe tbody tr th {\n",
       "        vertical-align: top;\n",
       "    }\n",
       "\n",
       "    .dataframe thead th {\n",
       "        text-align: right;\n",
       "    }\n",
       "</style>\n",
       "<table border=\"1\" class=\"dataframe\">\n",
       "  <thead>\n",
       "    <tr style=\"text-align: right;\">\n",
       "      <th></th>\n",
       "      <th>Model</th>\n",
       "      <th>feature</th>\n",
       "      <th>rule</th>\n",
       "      <th>diff_value</th>\n",
       "    </tr>\n",
       "  </thead>\n",
       "  <tbody>\n",
       "    <tr>\n",
       "      <th>0</th>\n",
       "      <td>mdn_test</td>\n",
       "      <td>P1_146</td>\n",
       "      <td>DSS</td>\n",
       "      <td>-26556.968148</td>\n",
       "    </tr>\n",
       "    <tr>\n",
       "      <th>1</th>\n",
       "      <td>mdn_test</td>\n",
       "      <td>P1_146</td>\n",
       "      <td>LOG</td>\n",
       "      <td>-6.673373</td>\n",
       "    </tr>\n",
       "    <tr>\n",
       "      <th>2</th>\n",
       "      <td>mdn_test</td>\n",
       "      <td>P1_146</td>\n",
       "      <td>CRPS</td>\n",
       "      <td>-0.224790</td>\n",
       "    </tr>\n",
       "    <tr>\n",
       "      <th>3</th>\n",
       "      <td>mdn_test</td>\n",
       "      <td>P1_309</td>\n",
       "      <td>DSS</td>\n",
       "      <td>849072.940219</td>\n",
       "    </tr>\n",
       "    <tr>\n",
       "      <th>4</th>\n",
       "      <td>mdn_test</td>\n",
       "      <td>P1_309</td>\n",
       "      <td>LOG</td>\n",
       "      <td>2.317801</td>\n",
       "    </tr>\n",
       "  </tbody>\n",
       "</table>\n",
       "</div>"
      ],
      "text/plain": [
       "      Model feature  rule     diff_value\n",
       "0  mdn_test  P1_146   DSS  -26556.968148\n",
       "1  mdn_test  P1_146   LOG      -6.673373\n",
       "2  mdn_test  P1_146  CRPS      -0.224790\n",
       "3  mdn_test  P1_309   DSS  849072.940219\n",
       "4  mdn_test  P1_309   LOG       2.317801"
      ]
     },
     "execution_count": 103,
     "metadata": {},
     "output_type": "execute_result"
    }
   ],
   "source": [
    "features_df.head()"
   ]
  },
  {
   "cell_type": "code",
   "execution_count": 99,
   "metadata": {},
   "outputs": [
    {
     "data": {
      "text/plain": [
       "Index(['empirical', 'mdn_test'], dtype='object', name='model_id')"
      ]
     },
     "execution_count": 99,
     "metadata": {},
     "output_type": "execute_result"
    }
   ],
   "source": [
    "rules_df.groupby('model_id').mean().index"
   ]
  },
  {
   "cell_type": "code",
   "execution_count": 28,
   "metadata": {},
   "outputs": [
    {
     "data": {
      "text/html": [
       "<div>\n",
       "<style scoped>\n",
       "    .dataframe tbody tr th:only-of-type {\n",
       "        vertical-align: middle;\n",
       "    }\n",
       "\n",
       "    .dataframe tbody tr th {\n",
       "        vertical-align: top;\n",
       "    }\n",
       "\n",
       "    .dataframe thead th {\n",
       "        text-align: right;\n",
       "    }\n",
       "</style>\n",
       "<table border=\"1\" class=\"dataframe\">\n",
       "  <thead>\n",
       "    <tr style=\"text-align: right;\">\n",
       "      <th></th>\n",
       "      <th>DSS</th>\n",
       "      <th>LOG</th>\n",
       "      <th>CRPS</th>\n",
       "    </tr>\n",
       "    <tr>\n",
       "      <th>model_id</th>\n",
       "      <th></th>\n",
       "      <th></th>\n",
       "      <th></th>\n",
       "    </tr>\n",
       "  </thead>\n",
       "  <tbody>\n",
       "    <tr>\n",
       "      <th>empirical</th>\n",
       "      <td>11.397325</td>\n",
       "      <td>3.534411</td>\n",
       "      <td>5.270893</td>\n",
       "    </tr>\n",
       "    <tr>\n",
       "      <th>mdn_test</th>\n",
       "      <td>82916.407071</td>\n",
       "      <td>17.946528</td>\n",
       "      <td>4.578223</td>\n",
       "    </tr>\n",
       "  </tbody>\n",
       "</table>\n",
       "</div>"
      ],
      "text/plain": [
       "                    DSS        LOG      CRPS\n",
       "model_id                                    \n",
       "empirical     11.397325   3.534411  5.270893\n",
       "mdn_test   82916.407071  17.946528  4.578223"
      ]
     },
     "execution_count": 28,
     "metadata": {},
     "output_type": "execute_result"
    }
   ],
   "source": [
    "mean_scores = rules_df.groupby('model_id')['DSS', 'LOG', 'CRPS'].mean()\n",
    "mean_scores"
   ]
  },
  {
   "cell_type": "code",
   "execution_count": 87,
   "metadata": {},
   "outputs": [
    {
     "data": {
      "image/png": "[encoded data removed]",
      "text/plain": [
       "<Figure size 1008x504 with 1 Axes>"
      ]
     },
     "metadata": {},
     "output_type": "display_data"
    }
   ],
   "source": [
    "def bar_plot_data(df, title, y_axis):\n",
    "    pos = list(range(df.values.shape[1])) \n",
    "\n",
    "    width = 0.2\n",
    "    fig, ax = plt.subplots(figsize=(14,7))\n",
    "\n",
    "    for i in range(df.values.shape[0]):\n",
    "        plt.bar([p + width*i for p in pos], mean_scores.iloc[i,:].values, width, alpha=0.5, label=mean_scores.index[i]) \n",
    "\n",
    "    ax.set_xticks([p + 1.5 * width for p in pos])\n",
    "    ax.set_xticklabels(df.columns)\n",
    "\n",
    "    plt.xlim(min(pos)-width, max(pos)+width*4)\n",
    "\n",
    "    ax.set_ylabel(y_axis)\n",
    "    ax.set_title(title)\n",
    "\n",
    "    plt.legend(mean_scores.index, loc='upper left')\n",
    "    plt.grid()\n",
    "    plt.show()"
   ]
  },
  {
   "cell_type": "code",
   "execution_count": null,
   "metadata": {},
   "outputs": [],
   "source": [
    "bar_plot_data(mean_scores, \"Models\\' scores on test data\", \"Score value\")"
   ]
  },
  {
   "cell_type": "code",
   "execution_count": 89,
   "metadata": {},
   "outputs": [
    {
     "data": {
      "text/html": [
       "<div>\n",
       "<style scoped>\n",
       "    .dataframe tbody tr th:only-of-type {\n",
       "        vertical-align: middle;\n",
       "    }\n",
       "\n",
       "    .dataframe tbody tr th {\n",
       "        vertical-align: top;\n",
       "    }\n",
       "\n",
       "    .dataframe thead th {\n",
       "        text-align: right;\n",
       "    }\n",
       "</style>\n",
       "<table border=\"1\" class=\"dataframe\">\n",
       "  <thead>\n",
       "    <tr style=\"text-align: right;\">\n",
       "      <th></th>\n",
       "      <th>DSS</th>\n",
       "      <th>LOG</th>\n",
       "      <th>CRPS</th>\n",
       "    </tr>\n",
       "    <tr>\n",
       "      <th>model_id</th>\n",
       "      <th></th>\n",
       "      <th></th>\n",
       "      <th></th>\n",
       "    </tr>\n",
       "  </thead>\n",
       "  <tbody>\n",
       "    <tr>\n",
       "      <th>mdn_train</th>\n",
       "      <td>3.324493</td>\n",
       "      <td>2.016356</td>\n",
       "      <td>3.716917</td>\n",
       "    </tr>\n",
       "  </tbody>\n",
       "</table>\n",
       "</div>"
      ],
      "text/plain": [
       "                DSS       LOG      CRPS\n",
       "model_id                               \n",
       "mdn_train  3.324493  2.016356  3.716917"
      ]
     },
     "execution_count": 89,
     "metadata": {},
     "output_type": "execute_result"
    }
   ],
   "source": [
    "mean_scores_train = rules_df_train.groupby('model_id')['DSS', 'LOG', 'CRPS'].mean()\n",
    "mean_scores_train"
   ]
  },
  {
   "cell_type": "code",
   "execution_count": 90,
   "metadata": {},
   "outputs": [
    {
     "data": {
      "image/png": "[encoded data removed]",
      "text/plain": [
       "<Figure size 1008x504 with 1 Axes>"
      ]
     },
     "metadata": {},
     "output_type": "display_data"
    }
   ],
   "source": [
    "bar_plot_data(mean_scores, \"Models\\' scores on test data\", \"Score value\")"
   ]
  },
  {
   "cell_type": "code",
   "execution_count": null,
   "metadata": {},
   "outputs": [],
   "source": []
  }
 ],
 "metadata": {
  "kernelspec": {
   "display_name": "Python 3",
   "language": "python",
   "name": "python3"
  },
  "language_info": {
   "codemirror_mode": {
    "name": "ipython",
    "version": 3
   },
   "file_extension": ".py",
   "mimetype": "text/x-python",
   "name": "python",
   "nbconvert_exporter": "python",
   "pygments_lexer": "ipython3",
   "version": "3.6.4"
  }
 },
 "nbformat": 4,
 "nbformat_minor": 2
}
